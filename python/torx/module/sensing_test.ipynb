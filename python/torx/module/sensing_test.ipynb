{
 "cells": [
  {
   "cell_type": "code",
   "execution_count": 15,
   "metadata": {},
   "outputs": [
    {
     "name": "stdout",
     "output_type": "stream",
     "text": [
      "input: [-1.         -0.77777778 -0.55555556 -0.33333333 -0.11111111  0.11111111\n",
      "  0.33333333  0.55555556  0.77777778  1.        ]\n",
      "output: [-1.21875   -0.7421875 -0.515625  -0.359375  -0.109375   0.1015625\n",
      "  0.359375   0.46875    0.65625    0.875    ]\n"
     ]
    }
   ],
   "source": [
    "import numpy as np\n",
    "\n",
    "input = np.linspace(-1, 1, 10) #[0, 1, 2, 3, 4, 5, 6, 7, 8, 9]\n",
    "print(\"input:\", input)\n",
    "input = np.array(input)\n",
    "vdd = 1\n",
    "\n",
    "delta_x = max(input)/2**7\n",
    "delta_v = vdd/2**8\n",
    "\n",
    "# dac\n",
    "output_dac = np.round(input/delta_x)*delta_v\n",
    "#print(\"dac:\", output_dac)\n",
    "\n",
    "gaussian_variance = (np.random.normal(0, 1, input.shape)) * 0.1\n",
    "variance = np.exp(gaussian_variance)\n",
    "output_dac = output_dac/variance\n",
    "#print(\"variance:\", gaussian_variance)\n",
    "#print(\"aft vari:\", output_dac)\n",
    "\n",
    "# adc\n",
    "output_adc = np.round(output_dac/delta_v)*delta_x\n",
    "print(\"output:\", output_adc)\n",
    "\n",
    "# compare\n",
    "#correct = input == output_adc\n",
    "#print(\"correct:\", np.sum(correct), \"of\", input.shape[0])"
   ]
  }
 ],
 "metadata": {
  "kernelspec": {
   "display_name": "Python 3",
   "language": "python",
   "name": "python3"
  },
  "language_info": {
   "codemirror_mode": {
    "name": "ipython",
    "version": 3
   },
   "file_extension": ".py",
   "mimetype": "text/x-python",
   "name": "python",
   "nbconvert_exporter": "python",
   "pygments_lexer": "ipython3",
   "version": "3.10.12"
  }
 },
 "nbformat": 4,
 "nbformat_minor": 2
}
