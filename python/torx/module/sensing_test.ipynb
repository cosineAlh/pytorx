{
 "cells": [
  {
   "cell_type": "code",
   "execution_count": 37,
   "metadata": {},
   "outputs": [
    {
     "name": "stdout",
     "output_type": "stream",
     "text": [
      "input: [0, 1, 2, 3, 4, 5, 6, 7, 8, 9]\n",
      "output: [ 0.  1.  2.  4.  4.  5.  6.  8.  7. 11.]\n",
      "correct:  6 of 10\n"
     ]
    }
   ],
   "source": [
    "import numpy as np\n",
    "\n",
    "input = [0, 1, 2, 3, 4, 5, 6, 7, 8, 9]\n",
    "print(\"input:\", input)\n",
    "input = np.array(input)\n",
    "vdd = 1\n",
    "\n",
    "delta_x = max(input)/2**7\n",
    "delta_v = vdd/2**8\n",
    "\n",
    "# dac\n",
    "output_dac = input/delta_x*delta_v\n",
    "#print(\"dac:\", output_dac)\n",
    "\n",
    "gaussian_variance = (np.random.normal(0, 1, input.shape)) * 0.1\n",
    "variance = np.exp(gaussian_variance)\n",
    "output_dac = output_dac/variance\n",
    "#print(\"variance:\", gaussian_variance)\n",
    "#print(\"aft vari:\", output_dac)\n",
    "\n",
    "# adc\n",
    "output_adc = np.round(output_dac*delta_x/delta_v)\n",
    "print(\"output:\", output_adc)\n",
    "\n",
    "# compare\n",
    "correct = input == output_adc\n",
    "print(\"correct: \", np.sum(correct), \"of\", input.shape[0])"
   ]
  }
 ],
 "metadata": {
  "kernelspec": {
   "display_name": "Python 3",
   "language": "python",
   "name": "python3"
  },
  "language_info": {
   "codemirror_mode": {
    "name": "ipython",
    "version": 3
   },
   "file_extension": ".py",
   "mimetype": "text/x-python",
   "name": "python",
   "nbconvert_exporter": "python",
   "pygments_lexer": "ipython3",
   "version": "3.10.12"
  }
 },
 "nbformat": 4,
 "nbformat_minor": 2
}
